{
 "cells": [
  {
   "cell_type": "code",
   "execution_count": 1,
   "metadata": {},
   "outputs": [
    {
     "name": "stdout",
     "output_type": "stream",
     "text": [
      "2.8.0\n",
      "2.8.0\n"
     ]
    }
   ],
   "source": [
    "import numpy as np\n",
    "import tensorflow as tf\n",
    "import tensorflow as tf\n",
    "from tensorflow import keras\n",
    "print(tf.__version__)\n",
    "\n",
    "print(keras.__version__)\n",
    "from numpy.random import seed\n",
    "seed(123)"
   ]
  },
  {
   "cell_type": "markdown",
   "metadata": {},
   "source": [
    "# Zad\n",
    "Porównaj wyniki działań różnych optymalizacji\n",
    "* \n",
    "```python\n",
    "sgd = keras.optimizers.SGD(lr=0.01, decay=1e-6, momentum=0.9, nesterov=False)\n",
    "```\n",
    "* \n",
    "```python\n",
    "sgd = keras.optimizers.SGD(lr=0.01, decay=1e-6, momentum=0.9, nesterov=True)\n",
    "```\n",
    "* \n",
    "```python\n",
    "RMSprop = keras.optimizers.RMSprop(learning_rate=0.001, rho=0.9)\n",
    "```\n",
    "* \n",
    "```python\n",
    "Adagrad = keras.optimizers.Adagrad(learning_rate=0.01)\n",
    "```\n",
    "* \n",
    "```python\n",
    "Adadelta = keras.optimizers.Adadelta(learning_rate=1.0, rho=0.95)\n",
    "```\n",
    "* \n",
    "```python\n",
    "Adam = keras.optimizers.Adam(learning_rate=0.001, beta_1=0.9, beta_2=0.999, amsgrad=False)\n",
    "```\n",
    "* \n",
    "```python\n",
    "Adam = keras.optimizers.Adam(learning_rate=0.0001, beta_1=0.9, beta_2=0.999, amsgrad=False)\n",
    "```\n",
    "\n",
    "https://keras.io/optimizers/"
   ]
  },
  {
   "cell_type": "code",
   "execution_count": 2,
   "metadata": {},
   "outputs": [
    {
     "name": "stderr",
     "output_type": "stream",
     "text": [
      "C:\\Users\\jansk\\anaconda3\\lib\\site-packages\\pandas\\util\\_decorators.py:311: ParserWarning: Falling back to the 'python' engine because the 'c' engine does not support regex separators (separators > 1 char and different from '\\s+' are interpreted as regex); you can avoid this warning by specifying engine='python'.\n",
      "  return func(*args, **kwargs)\n"
     ]
    },
    {
     "data": {
      "text/html": [
       "<div>\n",
       "<style scoped>\n",
       "    .dataframe tbody tr th:only-of-type {\n",
       "        vertical-align: middle;\n",
       "    }\n",
       "\n",
       "    .dataframe tbody tr th {\n",
       "        vertical-align: top;\n",
       "    }\n",
       "\n",
       "    .dataframe thead th {\n",
       "        text-align: right;\n",
       "    }\n",
       "</style>\n",
       "<table border=\"1\" class=\"dataframe\">\n",
       "  <thead>\n",
       "    <tr style=\"text-align: right;\">\n",
       "      <th></th>\n",
       "      <th>age</th>\n",
       "      <th>workclass</th>\n",
       "      <th>fnlwgt</th>\n",
       "      <th>education</th>\n",
       "      <th>education_num</th>\n",
       "      <th>marital_status</th>\n",
       "      <th>occupation</th>\n",
       "      <th>relationship</th>\n",
       "      <th>race</th>\n",
       "      <th>sex</th>\n",
       "      <th>capital_gain</th>\n",
       "      <th>capital_loss</th>\n",
       "      <th>hours_per_week</th>\n",
       "      <th>native_country</th>\n",
       "      <th>wage_class</th>\n",
       "    </tr>\n",
       "  </thead>\n",
       "  <tbody>\n",
       "    <tr>\n",
       "      <th>0</th>\n",
       "      <td>39</td>\n",
       "      <td>State-gov</td>\n",
       "      <td>77516</td>\n",
       "      <td>Bachelors</td>\n",
       "      <td>13</td>\n",
       "      <td>Never-married</td>\n",
       "      <td>Adm-clerical</td>\n",
       "      <td>Not-in-family</td>\n",
       "      <td>White</td>\n",
       "      <td>Male</td>\n",
       "      <td>2174</td>\n",
       "      <td>0</td>\n",
       "      <td>40</td>\n",
       "      <td>United-States</td>\n",
       "      <td>&lt;=50K</td>\n",
       "    </tr>\n",
       "    <tr>\n",
       "      <th>1</th>\n",
       "      <td>50</td>\n",
       "      <td>Self-emp-not-inc</td>\n",
       "      <td>83311</td>\n",
       "      <td>Bachelors</td>\n",
       "      <td>13</td>\n",
       "      <td>Married-civ-spouse</td>\n",
       "      <td>Exec-managerial</td>\n",
       "      <td>Husband</td>\n",
       "      <td>White</td>\n",
       "      <td>Male</td>\n",
       "      <td>0</td>\n",
       "      <td>0</td>\n",
       "      <td>13</td>\n",
       "      <td>United-States</td>\n",
       "      <td>&lt;=50K</td>\n",
       "    </tr>\n",
       "    <tr>\n",
       "      <th>2</th>\n",
       "      <td>38</td>\n",
       "      <td>Private</td>\n",
       "      <td>215646</td>\n",
       "      <td>HS-grad</td>\n",
       "      <td>9</td>\n",
       "      <td>Divorced</td>\n",
       "      <td>Handlers-cleaners</td>\n",
       "      <td>Not-in-family</td>\n",
       "      <td>White</td>\n",
       "      <td>Male</td>\n",
       "      <td>0</td>\n",
       "      <td>0</td>\n",
       "      <td>40</td>\n",
       "      <td>United-States</td>\n",
       "      <td>&lt;=50K</td>\n",
       "    </tr>\n",
       "    <tr>\n",
       "      <th>3</th>\n",
       "      <td>53</td>\n",
       "      <td>Private</td>\n",
       "      <td>234721</td>\n",
       "      <td>11th</td>\n",
       "      <td>7</td>\n",
       "      <td>Married-civ-spouse</td>\n",
       "      <td>Handlers-cleaners</td>\n",
       "      <td>Husband</td>\n",
       "      <td>Black</td>\n",
       "      <td>Male</td>\n",
       "      <td>0</td>\n",
       "      <td>0</td>\n",
       "      <td>40</td>\n",
       "      <td>United-States</td>\n",
       "      <td>&lt;=50K</td>\n",
       "    </tr>\n",
       "    <tr>\n",
       "      <th>4</th>\n",
       "      <td>28</td>\n",
       "      <td>Private</td>\n",
       "      <td>338409</td>\n",
       "      <td>Bachelors</td>\n",
       "      <td>13</td>\n",
       "      <td>Married-civ-spouse</td>\n",
       "      <td>Prof-specialty</td>\n",
       "      <td>Wife</td>\n",
       "      <td>Black</td>\n",
       "      <td>Female</td>\n",
       "      <td>0</td>\n",
       "      <td>0</td>\n",
       "      <td>40</td>\n",
       "      <td>Cuba</td>\n",
       "      <td>&lt;=50K</td>\n",
       "    </tr>\n",
       "  </tbody>\n",
       "</table>\n",
       "</div>"
      ],
      "text/plain": [
       "   age         workclass  fnlwgt  education  education_num  \\\n",
       "0   39         State-gov   77516  Bachelors             13   \n",
       "1   50  Self-emp-not-inc   83311  Bachelors             13   \n",
       "2   38           Private  215646    HS-grad              9   \n",
       "3   53           Private  234721       11th              7   \n",
       "4   28           Private  338409  Bachelors             13   \n",
       "\n",
       "       marital_status         occupation   relationship   race     sex  \\\n",
       "0       Never-married       Adm-clerical  Not-in-family  White    Male   \n",
       "1  Married-civ-spouse    Exec-managerial        Husband  White    Male   \n",
       "2            Divorced  Handlers-cleaners  Not-in-family  White    Male   \n",
       "3  Married-civ-spouse  Handlers-cleaners        Husband  Black    Male   \n",
       "4  Married-civ-spouse     Prof-specialty           Wife  Black  Female   \n",
       "\n",
       "   capital_gain  capital_loss  hours_per_week native_country wage_class  \n",
       "0          2174             0              40  United-States      <=50K  \n",
       "1             0             0              13  United-States      <=50K  \n",
       "2             0             0              40  United-States      <=50K  \n",
       "3             0             0              40  United-States      <=50K  \n",
       "4             0             0              40           Cuba      <=50K  "
      ]
     },
     "execution_count": 2,
     "metadata": {},
     "output_type": "execute_result"
    }
   ],
   "source": [
    "# Wczytaj dane treningowe i testowe\n",
    "import numpy as np\n",
    "import matplotlib.pyplot as plt\n",
    "import pandas as pd\n",
    "\n",
    "train_set = pd.read_csv('Dane/adult/adult.data', sep=\", \",header = None)\n",
    "test_set = pd.read_csv('Dane/adult/adult.test', sep=\", \",skiprows = 1, header = None) # Make sure to skip a row for the test set\n",
    "\n",
    "col_labels = ['age', 'workclass', 'fnlwgt', 'education', 'education_num', 'marital_status', 'occupation', \n",
    "              'relationship', 'race', 'sex', 'capital_gain', 'capital_loss', 'hours_per_week', 'native_country',\n",
    "             'wage_class']\n",
    "train_set.columns = col_labels\n",
    "test_set.columns = col_labels\n",
    "\n",
    "train = train_set.replace('?', np.nan).dropna()\n",
    "test = test_set.replace('?', np.nan).dropna()\n",
    "\n",
    "train_set.head()\n"
   ]
  },
  {
   "cell_type": "code",
   "execution_count": 3,
   "metadata": {},
   "outputs": [
    {
     "name": "stdout",
     "output_type": "stream",
     "text": [
      "(30162, 41)\n"
     ]
    },
    {
     "data": {
      "text/plain": [
       "(15060, 41)"
      ]
     },
     "execution_count": 3,
     "metadata": {},
     "output_type": "execute_result"
    }
   ],
   "source": [
    "\n",
    "\n",
    "\n",
    "\n",
    "dataset = pd.concat([train,test])\n",
    "\n",
    "dataset['wage_class'] = dataset.wage_class.replace({'<=50K.': 0,'<=50K':0, '>50K.':1, '>50K':1})\n",
    "\n",
    "dataset.drop([\"fnlwgt\"],axis=1,inplace=True)\n",
    "\n",
    "dataset.drop([\"education\"],axis=1,inplace=True)\n",
    "\n",
    "x = dataset.groupby('native_country')[\"wage_class\"].mean()\n",
    "\n",
    "d = dict(pd.cut(x[x.index!=\" United-States\"],5,labels=range(5)))\n",
    "\n",
    "dataset['native_country'] = dataset['native_country'].replace(d)\n",
    "\n",
    "dataset = pd.get_dummies(dataset,drop_first=True)\n",
    "\n",
    "train = dataset.iloc[:train.shape[0]]\n",
    "test = dataset.iloc[train.shape[0]:]\n",
    "\n",
    "X_train = train.drop(\"wage_class\",axis=1)\n",
    "y_train = train.wage_class\n",
    "\n",
    "X_test = test.drop(\"wage_class\",axis=1)\n",
    "y_test = test.wage_class\n",
    "\n",
    "from sklearn.preprocessing import StandardScaler\n",
    "sc = StandardScaler()\n",
    "X_train = sc.fit_transform(X_train)\n",
    "X_test = sc.transform(X_test)\n",
    "\n",
    "print(X_train.shape)\n",
    "X_test.shape"
   ]
  },
  {
   "cell_type": "markdown",
   "metadata": {},
   "source": [
    "# SGD"
   ]
  },
  {
   "cell_type": "code",
   "execution_count": 4,
   "metadata": {},
   "outputs": [
    {
     "name": "stdout",
     "output_type": "stream",
     "text": [
      "Model: \"sequential\"\n",
      "_________________________________________________________________\n",
      " Layer (type)                Output Shape              Param #   \n",
      "=================================================================\n",
      " dense (Dense)               (None, 100)               4200      \n",
      "                                                                 \n",
      " dense_1 (Dense)             (None, 50)                5050      \n",
      "                                                                 \n",
      " dense_2 (Dense)             (None, 10)                510       \n",
      "                                                                 \n",
      " dense_3 (Dense)             (None, 1)                 11        \n",
      "                                                                 \n",
      "=================================================================\n",
      "Total params: 9,771\n",
      "Trainable params: 9,771\n",
      "Non-trainable params: 0\n",
      "_________________________________________________________________\n"
     ]
    }
   ],
   "source": [
    "from keras.models import Sequential\n",
    "from keras.layers import Dense\n",
    "\n",
    "from keras.callbacks import History\n",
    "\n",
    "history_sgd = History()\n",
    "model = Sequential()\n",
    "model.add(Dense(100,activation=\"sigmoid\",input_shape=(X_train.shape[1],)))\n",
    "model.add(Dense(50,activation=\"sigmoid\"))\n",
    "model.add(Dense(10,activation=\"sigmoid\"))\n",
    "model.add(Dense(1,activation=\"sigmoid\"))\n",
    "model.summary()"
   ]
  },
  {
   "cell_type": "code",
   "execution_count": 5,
   "metadata": {},
   "outputs": [
    {
     "name": "stderr",
     "output_type": "stream",
     "text": [
      "C:\\Users\\jansk\\anaconda3\\lib\\site-packages\\keras\\optimizer_v2\\gradient_descent.py:102: UserWarning: The `lr` argument is deprecated, use `learning_rate` instead.\n",
      "  super(SGD, self).__init__(name, **kwargs)\n"
     ]
    }
   ],
   "source": [
    "sgd = keras.optimizers.SGD(lr=0.01, decay=1e-6, momentum=0.9, nesterov=True)\n",
    "model.compile(loss=\"binary_crossentropy\",optimizer=sgd, metrics=[\"accuracy\"])"
   ]
  },
  {
   "cell_type": "code",
   "execution_count": 6,
   "metadata": {},
   "outputs": [
    {
     "name": "stdout",
     "output_type": "stream",
     "text": [
      "Epoch 1/100\n",
      "943/943 [==============================] - 2s 2ms/step - loss: 0.5250 - accuracy: 0.7534 - val_loss: 0.4030 - val_accuracy: 0.8124\n",
      "Epoch 2/100\n",
      "943/943 [==============================] - 2s 2ms/step - loss: 0.3560 - accuracy: 0.8336 - val_loss: 0.3413 - val_accuracy: 0.8406\n",
      "Epoch 3/100\n",
      "943/943 [==============================] - 2s 2ms/step - loss: 0.3382 - accuracy: 0.8399 - val_loss: 0.3419 - val_accuracy: 0.8423\n",
      "Epoch 4/100\n",
      "943/943 [==============================] - 2s 2ms/step - loss: 0.3336 - accuracy: 0.8421 - val_loss: 0.3314 - val_accuracy: 0.8456\n",
      "Epoch 5/100\n",
      "943/943 [==============================] - 2s 2ms/step - loss: 0.3304 - accuracy: 0.8447 - val_loss: 0.3318 - val_accuracy: 0.8434\n",
      "Epoch 6/100\n",
      "943/943 [==============================] - 3s 4ms/step - loss: 0.3285 - accuracy: 0.8465 - val_loss: 0.3280 - val_accuracy: 0.8470\n",
      "Epoch 7/100\n",
      "943/943 [==============================] - 2s 2ms/step - loss: 0.3279 - accuracy: 0.8459 - val_loss: 0.3285 - val_accuracy: 0.8456\n",
      "Epoch 8/100\n",
      "943/943 [==============================] - 2s 2ms/step - loss: 0.3267 - accuracy: 0.8474 - val_loss: 0.3305 - val_accuracy: 0.8455\n",
      "Epoch 9/100\n",
      "943/943 [==============================] - 2s 3ms/step - loss: 0.3253 - accuracy: 0.8480 - val_loss: 0.3264 - val_accuracy: 0.8478\n",
      "Epoch 10/100\n",
      "943/943 [==============================] - 3s 3ms/step - loss: 0.3248 - accuracy: 0.8477 - val_loss: 0.3268 - val_accuracy: 0.8478\n",
      "Epoch 11/100\n",
      "943/943 [==============================] - 2s 2ms/step - loss: 0.3245 - accuracy: 0.8478 - val_loss: 0.3257 - val_accuracy: 0.8459\n",
      "Epoch 12/100\n",
      "943/943 [==============================] - 2s 2ms/step - loss: 0.3236 - accuracy: 0.8487 - val_loss: 0.3248 - val_accuracy: 0.8492\n",
      "Epoch 13/100\n",
      "943/943 [==============================] - 2s 2ms/step - loss: 0.3222 - accuracy: 0.8485 - val_loss: 0.3243 - val_accuracy: 0.8478\n",
      "Epoch 14/100\n",
      "943/943 [==============================] - 2s 2ms/step - loss: 0.3222 - accuracy: 0.8485 - val_loss: 0.3228 - val_accuracy: 0.8489\n",
      "Epoch 15/100\n",
      "943/943 [==============================] - 2s 2ms/step - loss: 0.3210 - accuracy: 0.8493 - val_loss: 0.3237 - val_accuracy: 0.8481\n",
      "Epoch 16/100\n",
      "943/943 [==============================] - 2s 2ms/step - loss: 0.3206 - accuracy: 0.8493 - val_loss: 0.3226 - val_accuracy: 0.8489\n",
      "Epoch 17/100\n",
      "943/943 [==============================] - 2s 2ms/step - loss: 0.3200 - accuracy: 0.8509 - val_loss: 0.3230 - val_accuracy: 0.8472\n",
      "Epoch 18/100\n",
      "943/943 [==============================] - 2s 2ms/step - loss: 0.3185 - accuracy: 0.8502 - val_loss: 0.3218 - val_accuracy: 0.8482\n",
      "Epoch 19/100\n",
      "943/943 [==============================] - 3s 3ms/step - loss: 0.3186 - accuracy: 0.8490 - val_loss: 0.3232 - val_accuracy: 0.8474\n",
      "Epoch 20/100\n",
      "943/943 [==============================] - 4s 4ms/step - loss: 0.3177 - accuracy: 0.8514 - val_loss: 0.3243 - val_accuracy: 0.8475\n",
      "Epoch 21/100\n",
      "943/943 [==============================] - 7s 7ms/step - loss: 0.3168 - accuracy: 0.8510 - val_loss: 0.3208 - val_accuracy: 0.8486\n",
      "Epoch 22/100\n",
      "943/943 [==============================] - 4s 5ms/step - loss: 0.3167 - accuracy: 0.8516 - val_loss: 0.3207 - val_accuracy: 0.8490\n",
      "Epoch 23/100\n",
      "943/943 [==============================] - 3s 3ms/step - loss: 0.3154 - accuracy: 0.8518 - val_loss: 0.3205 - val_accuracy: 0.8501\n",
      "Epoch 24/100\n",
      "943/943 [==============================] - 2s 2ms/step - loss: 0.3153 - accuracy: 0.8516 - val_loss: 0.3212 - val_accuracy: 0.8492\n",
      "Epoch 25/100\n",
      "943/943 [==============================] - 2s 2ms/step - loss: 0.3143 - accuracy: 0.8526 - val_loss: 0.3209 - val_accuracy: 0.8499\n",
      "Epoch 26/100\n",
      "943/943 [==============================] - 3s 3ms/step - loss: 0.3142 - accuracy: 0.8527 - val_loss: 0.3204 - val_accuracy: 0.8479\n",
      "Epoch 27/100\n",
      "943/943 [==============================] - 3s 3ms/step - loss: 0.3140 - accuracy: 0.8530 - val_loss: 0.3202 - val_accuracy: 0.8499\n",
      "Epoch 28/100\n",
      "943/943 [==============================] - 2s 3ms/step - loss: 0.3132 - accuracy: 0.8528 - val_loss: 0.3224 - val_accuracy: 0.8465\n",
      "Epoch 29/100\n",
      "943/943 [==============================] - 2s 3ms/step - loss: 0.3129 - accuracy: 0.8540 - val_loss: 0.3190 - val_accuracy: 0.8497\n",
      "Epoch 30/100\n",
      "943/943 [==============================] - 2s 2ms/step - loss: 0.3124 - accuracy: 0.8541 - val_loss: 0.3192 - val_accuracy: 0.8503\n",
      "Epoch 31/100\n",
      "943/943 [==============================] - 2s 3ms/step - loss: 0.3121 - accuracy: 0.8542 - val_loss: 0.3196 - val_accuracy: 0.8490\n",
      "Epoch 32/100\n",
      "943/943 [==============================] - 2s 2ms/step - loss: 0.3118 - accuracy: 0.8541 - val_loss: 0.3183 - val_accuracy: 0.8501\n",
      "Epoch 33/100\n",
      "943/943 [==============================] - 2s 2ms/step - loss: 0.3109 - accuracy: 0.8552 - val_loss: 0.3193 - val_accuracy: 0.8514\n",
      "Epoch 34/100\n",
      "943/943 [==============================] - 2s 2ms/step - loss: 0.3111 - accuracy: 0.8541 - val_loss: 0.3195 - val_accuracy: 0.8505\n",
      "Epoch 35/100\n",
      "943/943 [==============================] - 2s 2ms/step - loss: 0.3109 - accuracy: 0.8542 - val_loss: 0.3182 - val_accuracy: 0.8523\n",
      "Epoch 36/100\n",
      "943/943 [==============================] - 2s 2ms/step - loss: 0.3102 - accuracy: 0.8554 - val_loss: 0.3183 - val_accuracy: 0.8507\n",
      "Epoch 37/100\n",
      "943/943 [==============================] - 2s 2ms/step - loss: 0.3102 - accuracy: 0.8554 - val_loss: 0.3183 - val_accuracy: 0.8510\n",
      "Epoch 38/100\n",
      "943/943 [==============================] - 2s 2ms/step - loss: 0.3095 - accuracy: 0.8549 - val_loss: 0.3186 - val_accuracy: 0.8511\n",
      "Epoch 39/100\n",
      "943/943 [==============================] - 1s 2ms/step - loss: 0.3087 - accuracy: 0.8562 - val_loss: 0.3243 - val_accuracy: 0.8505\n",
      "Epoch 40/100\n",
      "943/943 [==============================] - 1s 1ms/step - loss: 0.3088 - accuracy: 0.8571 - val_loss: 0.3187 - val_accuracy: 0.8506\n",
      "Epoch 41/100\n",
      "943/943 [==============================] - 1s 1ms/step - loss: 0.3084 - accuracy: 0.8561 - val_loss: 0.3178 - val_accuracy: 0.8513\n",
      "Epoch 42/100\n",
      "943/943 [==============================] - 1s 1ms/step - loss: 0.3087 - accuracy: 0.8559 - val_loss: 0.3203 - val_accuracy: 0.8506\n",
      "Epoch 43/100\n",
      "943/943 [==============================] - 1s 1ms/step - loss: 0.3077 - accuracy: 0.8571 - val_loss: 0.3176 - val_accuracy: 0.8523\n",
      "Epoch 44/100\n",
      "943/943 [==============================] - 1s 1ms/step - loss: 0.3079 - accuracy: 0.8560 - val_loss: 0.3191 - val_accuracy: 0.8495\n",
      "Epoch 45/100\n",
      "943/943 [==============================] - 1s 1ms/step - loss: 0.3070 - accuracy: 0.8567 - val_loss: 0.3191 - val_accuracy: 0.8493\n",
      "Epoch 46/100\n",
      "943/943 [==============================] - 1s 1ms/step - loss: 0.3069 - accuracy: 0.8561 - val_loss: 0.3202 - val_accuracy: 0.8496\n",
      "Epoch 47/100\n",
      "943/943 [==============================] - 1s 1ms/step - loss: 0.3070 - accuracy: 0.8565 - val_loss: 0.3188 - val_accuracy: 0.8498\n",
      "Epoch 48/100\n",
      "943/943 [==============================] - 1s 1ms/step - loss: 0.3070 - accuracy: 0.8549 - val_loss: 0.3227 - val_accuracy: 0.8462\n",
      "Epoch 49/100\n",
      "943/943 [==============================] - 1s 1ms/step - loss: 0.3061 - accuracy: 0.8567 - val_loss: 0.3191 - val_accuracy: 0.8485\n",
      "Epoch 50/100\n",
      "943/943 [==============================] - 1s 1ms/step - loss: 0.3058 - accuracy: 0.8577 - val_loss: 0.3194 - val_accuracy: 0.8508\n",
      "Epoch 51/100\n",
      "943/943 [==============================] - 4s 4ms/step - loss: 0.3058 - accuracy: 0.8574 - val_loss: 0.3178 - val_accuracy: 0.8503\n",
      "Epoch 52/100\n",
      "943/943 [==============================] - 3s 3ms/step - loss: 0.3052 - accuracy: 0.8561 - val_loss: 0.3188 - val_accuracy: 0.8513\n",
      "Epoch 53/100\n",
      "943/943 [==============================] - 6s 7ms/step - loss: 0.3054 - accuracy: 0.8574 - val_loss: 0.3191 - val_accuracy: 0.8511\n",
      "Epoch 54/100\n",
      "943/943 [==============================] - 6s 7ms/step - loss: 0.3050 - accuracy: 0.8574 - val_loss: 0.3198 - val_accuracy: 0.8499\n",
      "Epoch 55/100\n",
      "943/943 [==============================] - 4s 5ms/step - loss: 0.3053 - accuracy: 0.8569 - val_loss: 0.3188 - val_accuracy: 0.8505\n",
      "Epoch 56/100\n",
      "943/943 [==============================] - 10s 11ms/step - loss: 0.3047 - accuracy: 0.8587 - val_loss: 0.3221 - val_accuracy: 0.8467\n",
      "Epoch 57/100\n",
      "943/943 [==============================] - 6s 7ms/step - loss: 0.3036 - accuracy: 0.8586 - val_loss: 0.3243 - val_accuracy: 0.8497\n"
     ]
    },
    {
     "name": "stdout",
     "output_type": "stream",
     "text": [
      "Epoch 58/100\n",
      "943/943 [==============================] - 11s 11ms/step - loss: 0.3041 - accuracy: 0.8581 - val_loss: 0.3214 - val_accuracy: 0.8479\n",
      "Epoch 59/100\n",
      "943/943 [==============================] - 7s 7ms/step - loss: 0.3039 - accuracy: 0.8585 - val_loss: 0.3207 - val_accuracy: 0.8497\n",
      "Epoch 60/100\n",
      "943/943 [==============================] - 4s 4ms/step - loss: 0.3033 - accuracy: 0.8585 - val_loss: 0.3204 - val_accuracy: 0.8485\n",
      "Epoch 61/100\n",
      "943/943 [==============================] - 4s 4ms/step - loss: 0.3033 - accuracy: 0.8582 - val_loss: 0.3208 - val_accuracy: 0.8495\n",
      "Epoch 62/100\n",
      "943/943 [==============================] - 2s 3ms/step - loss: 0.3026 - accuracy: 0.8577 - val_loss: 0.3195 - val_accuracy: 0.8501\n",
      "Epoch 63/100\n",
      "943/943 [==============================] - 2s 2ms/step - loss: 0.3025 - accuracy: 0.8585 - val_loss: 0.3208 - val_accuracy: 0.8490\n",
      "Epoch 64/100\n",
      "943/943 [==============================] - 2s 2ms/step - loss: 0.3024 - accuracy: 0.8584 - val_loss: 0.3202 - val_accuracy: 0.8486\n",
      "Epoch 65/100\n",
      "943/943 [==============================] - 2s 2ms/step - loss: 0.3024 - accuracy: 0.8575 - val_loss: 0.3205 - val_accuracy: 0.8486\n",
      "Epoch 66/100\n",
      "943/943 [==============================] - 3s 3ms/step - loss: 0.3019 - accuracy: 0.8585 - val_loss: 0.3253 - val_accuracy: 0.8440\n",
      "Epoch 67/100\n",
      "943/943 [==============================] - 2s 2ms/step - loss: 0.3016 - accuracy: 0.8585 - val_loss: 0.3210 - val_accuracy: 0.8491\n",
      "Epoch 68/100\n",
      "943/943 [==============================] - 2s 3ms/step - loss: 0.3014 - accuracy: 0.8588 - val_loss: 0.3215 - val_accuracy: 0.8481\n",
      "Epoch 69/100\n",
      "943/943 [==============================] - 3s 3ms/step - loss: 0.3010 - accuracy: 0.8604 - val_loss: 0.3209 - val_accuracy: 0.8491\n",
      "Epoch 70/100\n",
      "943/943 [==============================] - 2s 3ms/step - loss: 0.3006 - accuracy: 0.8592 - val_loss: 0.3198 - val_accuracy: 0.8499\n",
      "Epoch 71/100\n",
      "943/943 [==============================] - 3s 3ms/step - loss: 0.3005 - accuracy: 0.8593 - val_loss: 0.3227 - val_accuracy: 0.8473\n",
      "Epoch 72/100\n",
      "943/943 [==============================] - 3s 3ms/step - loss: 0.3001 - accuracy: 0.8596 - val_loss: 0.3217 - val_accuracy: 0.8471\n",
      "Epoch 73/100\n",
      "943/943 [==============================] - 2s 2ms/step - loss: 0.2990 - accuracy: 0.8601 - val_loss: 0.3251 - val_accuracy: 0.8452\n",
      "Epoch 74/100\n",
      "943/943 [==============================] - 2s 2ms/step - loss: 0.2994 - accuracy: 0.8589 - val_loss: 0.3217 - val_accuracy: 0.8482\n",
      "Epoch 75/100\n",
      "943/943 [==============================] - 2s 2ms/step - loss: 0.2988 - accuracy: 0.8597 - val_loss: 0.3215 - val_accuracy: 0.8492\n",
      "Epoch 76/100\n",
      "943/943 [==============================] - 2s 2ms/step - loss: 0.2990 - accuracy: 0.8608 - val_loss: 0.3226 - val_accuracy: 0.8470\n",
      "Epoch 77/100\n",
      "943/943 [==============================] - 2s 2ms/step - loss: 0.2986 - accuracy: 0.8593 - val_loss: 0.3244 - val_accuracy: 0.8481\n",
      "Epoch 78/100\n",
      "943/943 [==============================] - 2s 2ms/step - loss: 0.2981 - accuracy: 0.8614 - val_loss: 0.3220 - val_accuracy: 0.8479\n",
      "Epoch 79/100\n",
      "943/943 [==============================] - 2s 2ms/step - loss: 0.2978 - accuracy: 0.8612 - val_loss: 0.3227 - val_accuracy: 0.8484\n",
      "Epoch 80/100\n",
      "943/943 [==============================] - 2s 2ms/step - loss: 0.2976 - accuracy: 0.8602 - val_loss: 0.3236 - val_accuracy: 0.8499\n",
      "Epoch 81/100\n",
      "943/943 [==============================] - 2s 2ms/step - loss: 0.2977 - accuracy: 0.8602 - val_loss: 0.3248 - val_accuracy: 0.8478\n",
      "Epoch 82/100\n",
      "943/943 [==============================] - 2s 2ms/step - loss: 0.2973 - accuracy: 0.8606 - val_loss: 0.3233 - val_accuracy: 0.8481\n",
      "Epoch 83/100\n",
      "943/943 [==============================] - 2s 2ms/step - loss: 0.2966 - accuracy: 0.8616 - val_loss: 0.3267 - val_accuracy: 0.8493\n",
      "Epoch 84/100\n",
      "943/943 [==============================] - 2s 2ms/step - loss: 0.2967 - accuracy: 0.8611 - val_loss: 0.3254 - val_accuracy: 0.8458\n",
      "Epoch 85/100\n",
      "943/943 [==============================] - 1s 1ms/step - loss: 0.2965 - accuracy: 0.8613 - val_loss: 0.3252 - val_accuracy: 0.8465\n",
      "Epoch 86/100\n",
      "943/943 [==============================] - 1s 1ms/step - loss: 0.2961 - accuracy: 0.8605 - val_loss: 0.3248 - val_accuracy: 0.8474\n",
      "Epoch 87/100\n",
      "943/943 [==============================] - 1s 1ms/step - loss: 0.2956 - accuracy: 0.8622 - val_loss: 0.3269 - val_accuracy: 0.8458\n",
      "Epoch 88/100\n",
      "943/943 [==============================] - 2s 2ms/step - loss: 0.2958 - accuracy: 0.8613 - val_loss: 0.3262 - val_accuracy: 0.8491\n",
      "Epoch 89/100\n",
      "943/943 [==============================] - 1s 1ms/step - loss: 0.2948 - accuracy: 0.8629 - val_loss: 0.3305 - val_accuracy: 0.8417\n",
      "Epoch 90/100\n",
      "943/943 [==============================] - 1s 1ms/step - loss: 0.2953 - accuracy: 0.8612 - val_loss: 0.3273 - val_accuracy: 0.8464\n",
      "Epoch 91/100\n",
      "943/943 [==============================] - 1s 1ms/step - loss: 0.2945 - accuracy: 0.8608 - val_loss: 0.3264 - val_accuracy: 0.8473\n",
      "Epoch 92/100\n",
      "943/943 [==============================] - 1s 1ms/step - loss: 0.2944 - accuracy: 0.8618 - val_loss: 0.3265 - val_accuracy: 0.8465\n",
      "Epoch 93/100\n",
      "943/943 [==============================] - 1s 1ms/step - loss: 0.2941 - accuracy: 0.8622 - val_loss: 0.3263 - val_accuracy: 0.8483\n",
      "Epoch 94/100\n",
      "943/943 [==============================] - 1s 1ms/step - loss: 0.2935 - accuracy: 0.8635 - val_loss: 0.3278 - val_accuracy: 0.8465\n",
      "Epoch 95/100\n",
      "943/943 [==============================] - 1s 1ms/step - loss: 0.2935 - accuracy: 0.8625 - val_loss: 0.3267 - val_accuracy: 0.8467\n",
      "Epoch 96/100\n",
      "943/943 [==============================] - 2s 2ms/step - loss: 0.2932 - accuracy: 0.8615 - val_loss: 0.3284 - val_accuracy: 0.8460\n",
      "Epoch 97/100\n",
      "943/943 [==============================] - 2s 2ms/step - loss: 0.2931 - accuracy: 0.8629 - val_loss: 0.3271 - val_accuracy: 0.8455\n",
      "Epoch 98/100\n",
      "943/943 [==============================] - 2s 2ms/step - loss: 0.2927 - accuracy: 0.8633 - val_loss: 0.3280 - val_accuracy: 0.8452\n",
      "Epoch 99/100\n",
      "943/943 [==============================] - 1s 1ms/step - loss: 0.2922 - accuracy: 0.8625 - val_loss: 0.3354 - val_accuracy: 0.8460\n",
      "Epoch 100/100\n",
      "943/943 [==============================] - 1s 2ms/step - loss: 0.2924 - accuracy: 0.8622 - val_loss: 0.3280 - val_accuracy: 0.8461\n"
     ]
    },
    {
     "data": {
      "text/plain": [
       "<keras.callbacks.History at 0x25f67fa4b80>"
      ]
     },
     "execution_count": 6,
     "metadata": {},
     "output_type": "execute_result"
    }
   ],
   "source": [
    "model.fit(X_train, y_train, validation_data= (X_test, y_test), batch_size=32,epochs=100, callbacks=[history_sgd])"
   ]
  },
  {
   "cell_type": "code",
   "execution_count": 7,
   "metadata": {},
   "outputs": [
    {
     "data": {
      "text/plain": [
       "dict_keys(['loss', 'accuracy', 'val_loss', 'val_accuracy'])"
      ]
     },
     "execution_count": 7,
     "metadata": {},
     "output_type": "execute_result"
    }
   ],
   "source": [
    "history_sgd.history.keys()"
   ]
  },
  {
   "cell_type": "code",
   "execution_count": 8,
   "metadata": {},
   "outputs": [
    {
     "data": {
      "image/png": "[encoded data removed]",
      "text/plain": [
       "<Figure size 432x288 with 1 Axes>"
      ]
     },
     "metadata": {
      "needs_background": "light"
     },
     "output_type": "display_data"
    }
   ],
   "source": [
    "import matplotlib.pyplot as pl\n",
    "plt.plot(history_sgd.history['accuracy'], label = \"tarina\")\n",
    "plt.plot(history_sgd.history['val_accuracy'], label = \"test\")\n",
    "plt.legend()\n",
    "plt.show()"
   ]
  },
  {
   "cell_type": "code",
   "execution_count": 9,
   "metadata": {},
   "outputs": [
    {
     "data": {
      "image/png": "[encoded data removed]",
      "text/plain": [
       "<Figure size 432x288 with 1 Axes>"
      ]
     },
     "metadata": {
      "needs_background": "light"
     },
     "output_type": "display_data"
    }
   ],
   "source": [
    "import matplotlib.pyplot as pl\n",
    "plt.plot(history_sgd.history['loss'], label = \"tarina\")\n",
    "plt.plot(history_sgd.history['val_loss'], label = \"test\")\n",
    "plt.legend()\n",
    "plt.show()"
   ]
  },
  {
   "cell_type": "markdown",
   "metadata": {},
   "source": [
    "# RMSprop"
   ]
  },
  {
   "cell_type": "code",
   "execution_count": null,
   "metadata": {},
   "outputs": [],
   "source": []
  },
  {
   "cell_type": "code",
   "execution_count": null,
   "metadata": {},
   "outputs": [],
   "source": []
  },
  {
   "cell_type": "markdown",
   "metadata": {},
   "source": [
    "# Adagrad"
   ]
  },
  {
   "cell_type": "code",
   "execution_count": null,
   "metadata": {},
   "outputs": [],
   "source": []
  },
  {
   "cell_type": "code",
   "execution_count": null,
   "metadata": {},
   "outputs": [],
   "source": []
  },
  {
   "cell_type": "markdown",
   "metadata": {},
   "source": [
    "# Adadelta"
   ]
  },
  {
   "cell_type": "code",
   "execution_count": null,
   "metadata": {},
   "outputs": [],
   "source": []
  },
  {
   "cell_type": "code",
   "execution_count": null,
   "metadata": {},
   "outputs": [],
   "source": []
  },
  {
   "cell_type": "markdown",
   "metadata": {},
   "source": [
    "# Adam"
   ]
  },
  {
   "cell_type": "code",
   "execution_count": null,
   "metadata": {},
   "outputs": [],
   "source": []
  },
  {
   "cell_type": "markdown",
   "metadata": {},
   "source": [
    "# Adam"
   ]
  },
  {
   "cell_type": "code",
   "execution_count": null,
   "metadata": {},
   "outputs": [],
   "source": []
  }
 ],
 "metadata": {
  "kernelspec": {
   "display_name": "Python 3 (ipykernel)",
   "language": "python",
   "name": "python3"
  },
  "language_info": {
   "codemirror_mode": {
    "name": "ipython",
    "version": 3
   },
   "file_extension": ".py",
   "mimetype": "text/x-python",
   "name": "python",
   "nbconvert_exporter": "python",
   "pygments_lexer": "ipython3",
   "version": "3.9.7"
  }
 },
 "nbformat": 4,
 "nbformat_minor": 2
}
