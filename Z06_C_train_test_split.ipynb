{
 "cells": [
  {
   "cell_type": "markdown",
   "metadata": {},
   "source": [
    "# Train test split\n"
   ]
  },
  {
   "cell_type": "code",
   "execution_count": 1,
   "metadata": {},
   "outputs": [],
   "source": [
    "import numpy as np\n",
    "import pandas as pd\n",
    "import scipy.stats as stats\n",
    "import sklearn.linear_model as lm\n",
    "from sklearn import datasets, linear_model\n",
    "import matplotlib.pyplot as plt\n",
    "\n",
    "from sklearn.preprocessing import PolynomialFeatures\n",
    "from sklearn.pipeline import make_pipeline\n",
    "\n",
    "from sklearn import  metrics"
   ]
  },
  {
   "cell_type": "markdown",
   "metadata": {},
   "source": [
    "Rozważmy następujący zbiór punktów:"
   ]
  },
  {
   "cell_type": "code",
   "execution_count": 2,
   "metadata": {},
   "outputs": [
    {
     "data": {
      "image/png": "[encoded data removed]",
      "text/plain": [
       "<Figure size 432x288 with 1 Axes>"
      ]
     },
     "metadata": {
      "needs_background": "light"
     },
     "output_type": "display_data"
    }
   ],
   "source": [
    "x = stats.uniform(0,3).rvs(100)\n",
    "f = lambda x: ((x*2-1)*(x**2-2)*(x-2)+3)\n",
    "y = f(x) + stats.norm(0,0.3).rvs(len(x))\n",
    "plt.plot(x, y, 'ok', ms=10);\n",
    "plt.show()"
   ]
  },
  {
   "cell_type": "markdown",
   "metadata": {},
   "source": [
    "# Przykład\n",
    "Podziel zbiór danych na część testową i treningową. \n",
    "Naucz model na części treningowej i ocen wyniki na części testowej."
   ]
  },
  {
   "cell_type": "code",
   "execution_count": 3,
   "metadata": {},
   "outputs": [
    {
     "name": "stdout",
     "output_type": "stream",
     "text": [
      "(60,) (60,)\n",
      "(40,) (40,)\n"
     ]
    }
   ],
   "source": [
    "from sklearn.model_selection import train_test_split\n",
    "X_train, X_test, y_train, y_test = train_test_split(x, y, test_size=0.4, random_state=0)\n",
    "\n",
    "print(X_train.shape, y_train.shape)\n",
    "print(X_test.shape, y_test.shape)"
   ]
  },
  {
   "cell_type": "code",
   "execution_count": 4,
   "metadata": {},
   "outputs": [],
   "source": [
    "X_train=np.vstack(X_train)\n",
    "X_test=np.vstack(X_test)"
   ]
  },
  {
   "cell_type": "code",
   "execution_count": 5,
   "metadata": {},
   "outputs": [
    {
     "data": {
      "text/plain": [
       "array([27.04687892,  0.18481015, 10.10955162,  6.81860455, 23.82752556,\n",
       "        2.10379177,  6.18582951,  0.52216715,  0.5789681 ,  0.25053277,\n",
       "        9.14536074,  0.87467179, 16.62387515,  1.23602261,  0.68722324,\n",
       "        5.56993097, 19.48180664, 10.24220514,  0.97407216,  6.59990626,\n",
       "        6.9975051 , 11.1717304 ,  4.24899923,  4.92019848,  0.10427012,\n",
       "        7.03948422,  0.86328506,  5.44935031, 20.3248853 ,  1.08516271,\n",
       "        0.92670026,  3.44830572, 10.62142312, 27.62678257,  5.59886109,\n",
       "        0.29408035, 24.67498736, 25.36701372,  6.0541982 , 21.02384912])"
      ]
     },
     "execution_count": 5,
     "metadata": {},
     "output_type": "execute_result"
    }
   ],
   "source": [
    "model2 = make_pipeline(PolynomialFeatures(2), linear_model.LinearRegression())\n",
    "model2.fit(X_train, y_train)\n",
    "model2.predict(X_test)"
   ]
  },
  {
   "cell_type": "code",
   "execution_count": 7,
   "metadata": {},
   "outputs": [
    {
     "name": "stdout",
     "output_type": "stream",
     "text": [
      "Explained variance score: 0.7651264867577338\n",
      "Explained variance score: 0.7651264867577338\n",
      "Median absolute error: 3.1801924615306625\n",
      "Mean squared error: 13.80582350743298\n",
      "Mean absolute errors: 3.239784281681699\n"
     ]
    }
   ],
   "source": [
    "print(\"Explained variance score: {}\".format( metrics.explained_variance_score(y_test, model2.predict(X_test)) ))\n",
    "print(\"Explained variance score: {}\".format( metrics.explained_variance_score(y_test, model2.predict(X_test)) ))\n",
    "print(\"Median absolute error: {}\".format( metrics.median_absolute_error(y_test, model2.predict(X_test)) ))\n",
    "print(\"Mean squared error: {}\".format( metrics.mean_squared_error(y_test, model2.predict(X_test)) ))\n",
    "print(\"Mean absolute errors: {}\".format(metrics.mean_absolute_error(y_test, model2.predict(X_test)) ))"
   ]
  },
  {
   "cell_type": "markdown",
   "metadata": {},
   "source": [
    "# Zadanie\n",
    "Wylicz powyższe miary na zbiorze testowym dla wszystkich modeli nauczonych na trainie:\n",
    "\n",
    "- regrsji linowej\n",
    "- regrsji wielomianowej stopnia 2\n",
    "- regrsji wielomianowej stopnia 3\n",
    "- regrsji wielomianowej stopnia 4\n",
    "- regrsji wielomianowej stopnia 5\n",
    "- regrsji wielomianowej stopnia 25"
   ]
  },
  {
   "cell_type": "code",
   "execution_count": 8,
   "metadata": {},
   "outputs": [
    {
     "name": "stdout",
     "output_type": "stream",
     "text": [
      "Explained variance score: 0.5104612636004036\n",
      "Median absolute error: 3.507974797728843\n",
      "Mean squared error: 28.871629539491742\n",
      "Mean absolute errors: 4.289747385560858\n",
      "\n",
      "Explained variance score: 0.7651264867577338\n",
      "Median absolute error: 3.1801924615306625\n",
      "Mean squared error: 13.80582350743298\n",
      "Mean absolute errors: 3.239784281681699\n",
      "\n",
      "Explained variance score: 0.9905971376861733\n",
      "Median absolute error: 0.4170251604621875\n",
      "Mean squared error: 0.5563257750839735\n",
      "Mean absolute errors: 0.5798392243583355\n",
      "\n",
      "Explained variance score: 0.9986417542148096\n",
      "Median absolute error: 0.20049216035009598\n",
      "Mean squared error: 0.08127675659625426\n",
      "Mean absolute errors: 0.22614771553037044\n",
      "\n",
      "Explained variance score: 0.9986543834042794\n",
      "Median absolute error: 0.2009058727372497\n",
      "Mean squared error: 0.08056171020583917\n",
      "Mean absolute errors: 0.22553234251347826\n",
      "\n",
      "Explained variance score: 0.9957314612239944\n",
      "Median absolute error: 0.17671627539248136\n",
      "Mean squared error: 0.2514404058381863\n",
      "Mean absolute errors: 0.3160673655557292\n",
      "\n"
     ]
    }
   ],
   "source": [
    "degs = [1, 2, 3, 4, 5, 25]\n",
    "\n",
    "for i in degs:\n",
    "    model = make_pipeline(PolynomialFeatures(i), linear_model.LinearRegression())\n",
    "    model.fit(X_train, y_train)\n",
    "    \n",
    "    print(\"Explained variance score: {}\".format( metrics.explained_variance_score(y_test, model.predict(X_test)) ))\n",
    "    print(\"Median absolute error: {}\".format( metrics.median_absolute_error(y_test, model.predict(X_test)) ))\n",
    "    print(\"Mean squared error: {}\".format( metrics.mean_squared_error(y_test, model.predict(X_test)) ))\n",
    "    print(\"Mean absolute errors: {}\".format(metrics.mean_absolute_error(y_test, model.predict(X_test)) ))\n",
    "    print()\n"
   ]
  }
 ],
 "metadata": {
  "kernelspec": {
   "display_name": "Python 3 (ipykernel)",
   "language": "python",
   "name": "python3"
  },
  "language_info": {
   "codemirror_mode": {
    "name": "ipython",
    "version": 3
   },
   "file_extension": ".py",
   "mimetype": "text/x-python",
   "name": "python",
   "nbconvert_exporter": "python",
   "pygments_lexer": "ipython3",
   "version": "3.9.7"
  }
 },
 "nbformat": 4,
 "nbformat_minor": 2
}
